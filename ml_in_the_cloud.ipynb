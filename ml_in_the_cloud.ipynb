import pandas as pd

# Chargement des données
train_data = pd.read_csv('/mnt/data/sentiment_analysis_emotions_train.csv')
test_data = pd.read_csv('/mnt/data/sentiment_analysis_emotions_test.csv')

# Afficher les premières lignes des fichiers de données
print("Train Data: ")
print(train_data.head())

print("\nTest Data: ")
print(test_data.head())


